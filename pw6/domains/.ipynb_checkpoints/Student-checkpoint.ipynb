{
 "cells": [
  {
   "cell_type": "code",
   "execution_count": null,
   "metadata": {},
   "outputs": [],
   "source": [
    "\n",
    "class Student():\n",
    "    def __init__(self, id, name, Birthday):\n",
    "        self.id = id\n",
    "        self.name = name\n",
    "        self.Birthday = Birthday\n",
    "        \n",
    "    def getStudentinfo(self):\n",
    "        print(\"Student ID: \" + self.id)\n",
    "        print(\"Student Name: \" + self.name)\n",
    "        print(\"Student Birthday: \" + self.Birthday)\n",
    "        \n",
    "    def setStudentinfo(self, id, name, Birthday):\n",
    "        self.id = id\n",
    "        self.name = name\n",
    "        self.Birthday = Birthday\n",
    "\n",
    "        \n",
    "def createStudentList():\n",
    "    for i in range(StudentCount):\n",
    "        StudentList.append(\"s\" + str(i))\n",
    "        \n",
    "def IsExistStudentName(name):\n",
    "    for student in StudentList:\n",
    "        if name == student.name:\n",
    "            return True"
   ]
  }
 ],
 "metadata": {
  "kernelspec": {
   "display_name": "Python 3",
   "language": "python",
   "name": "python3"
  },
  "language_info": {
   "codemirror_mode": {
    "name": "ipython",
    "version": 3
   },
   "file_extension": ".py",
   "mimetype": "text/x-python",
   "name": "python",
   "nbconvert_exporter": "python",
   "pygments_lexer": "ipython3",
   "version": "3.8.5"
  }
 },
 "nbformat": 4,
 "nbformat_minor": 4
}
