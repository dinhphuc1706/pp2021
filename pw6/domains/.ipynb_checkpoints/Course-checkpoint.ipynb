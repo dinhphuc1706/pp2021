{
 "cells": [
  {
   "cell_type": "code",
   "execution_count": null,
   "metadata": {},
   "outputs": [],
   "source": [
    "class Course():\n",
    "    def __init__(self, id, name):\n",
    "        self.id = id\n",
    "        self.name = name\n",
    "        \n",
    "    def getCourseinfo(self):\n",
    "        print(\"Course ID: \" + self.id)\n",
    "        print(\"Course Name: \" + self.name)\n",
    "        \n",
    "    def setCourseinfo(self, id, name):\n",
    "        self.id = id\n",
    "        self.name = name\n",
    "        \n",
    "        \n",
    "def createCourseList():\n",
    "    for i in range(CourseCount):\n",
    "        CourseList.append(\"s\" + str(i))\n",
    "        \n",
    "def IsExistCourseName(name):\n",
    "    for course in CourseList:\n",
    "        if name == course.name:\n",
    "            return True"
   ]
  }
 ],
 "metadata": {
  "kernelspec": {
   "display_name": "Python 3",
   "language": "python",
   "name": "python3"
  },
  "language_info": {
   "codemirror_mode": {
    "name": "ipython",
    "version": 3
   },
   "file_extension": ".py",
   "mimetype": "text/x-python",
   "name": "python",
   "nbconvert_exporter": "python",
   "pygments_lexer": "ipython3",
   "version": "3.8.5"
  }
 },
 "nbformat": 4,
 "nbformat_minor": 4
}
