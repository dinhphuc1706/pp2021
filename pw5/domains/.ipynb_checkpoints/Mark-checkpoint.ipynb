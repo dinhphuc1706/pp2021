{
 "cells": [
  {
   "cell_type": "code",
   "execution_count": null,
   "metadata": {},
   "outputs": [],
   "source": [
    "from numpy import *\n",
    "from math import *\n",
    "\n",
    "class MarkTable():\n",
    "    def __init__(self, StudentName, CourseName, Mark):\n",
    "        self.StudentName = StudentName\n",
    "        self.CourseName = CourseName\n",
    "        self.Mark = Mark\n",
    "    \n",
    "    def getMarkinfo(self):\n",
    "        print(\"Student Name: \" + self.StudentName)\n",
    "        print(\"Course Name: \" + self.CourseName)\n",
    "        print(\"Mark: \" + str(self.Mark))\n",
    "        \n",
    "    def setMarkinfo(self, StudentName, CourseName, Mark):\n",
    "        self.StudentName = StudentName\n",
    "        self.CourseName = CourseName\n",
    "        self.Mark = Mark\n",
    "        \n",
    "        \n",
    "def createMarkList():\n",
    "    global checkStudentName\n",
    "    global checkCourseName\n",
    "    checkStudentName = input(\"Choose Student: \")\n",
    "    checkCourseName = input(\"Choose Course: \")\n",
    "    if (IsExistStudentName(checkStudentName) and IsExistCourseName(checkCourseName)):\n",
    "        MarkList.append(\"record\" + str(index+1))\n",
    "        print(\"Index: \" + str(index))\n",
    "    else:\n",
    "        print(\"Not exist Student or Course\")\n",
    "        \n",
    "def setMark():\n",
    "    global index\n",
    "    Mark = float(input(\"Mark: \"))\n",
    "    MarkList[index] = MarkTable(checkStudentName, checkCourseName, floor(Mark*10)/10)\n",
    "    index += 1    \n",
    "    \n",
    "def AverageMark(name):\n",
    "    MarkArray = []\n",
    "    for i in range(len(MarkList)):\n",
    "        if name == MarkList[i].StudentName:\n",
    "            MarkArray.append(MarkList[i].Mark)\n",
    "    SumArray = array(MarkArray)\n",
    "    AverageMark = average(SumArray)\n",
    "    print(\"Average Mark of \" + name + \" is: \" + str(AverageMark))"
   ]
  }
 ],
 "metadata": {
  "kernelspec": {
   "display_name": "Python 3",
   "language": "python",
   "name": "python3"
  },
  "language_info": {
   "codemirror_mode": {
    "name": "ipython",
    "version": 3
   },
   "file_extension": ".py",
   "mimetype": "text/x-python",
   "name": "python",
   "nbconvert_exporter": "python",
   "pygments_lexer": "ipython3",
   "version": "3.8.5"
  }
 },
 "nbformat": 4,
 "nbformat_minor": 4
}
