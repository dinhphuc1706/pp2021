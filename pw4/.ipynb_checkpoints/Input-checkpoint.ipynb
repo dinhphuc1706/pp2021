{
 "cells": [
  {
   "cell_type": "code",
   "execution_count": null,
   "metadata": {},
   "outputs": [],
   "source": [
    "from domains.Student import *\n",
    "from domains.Course import *\n",
    "from domains.Mark import *\n",
    "from math import *\n",
    "from numpy import *\n",
    "\n",
    "StudentList = []\n",
    "CourseList = []\n",
    "MarkList = []\n",
    "\n",
    "def RecordCount():\n",
    "    global RecordCount\n",
    "    RecordCount = int(input(\"Enter Record: \"))\n",
    "\n",
    "def StudentCount():\n",
    "    global StudentCount\n",
    "    StudentCount = int(input(\"How many student are there? \"))\n",
    "    \n",
    "def CourseCount():\n",
    "    global CourseCount\n",
    "    CourseCount = int(input(\"How many course are there in the semester ? \"))\n",
    "    \n",
    "    \n",
    "def setStudent():\n",
    "    print(\"Input Student Information: \")\n",
    "    for i in range(StudentCount):\n",
    "        student_id = input(\"Enter Student Id: \")\n",
    "        student_name = input(\"Enter Student Name: \")\n",
    "        student_birthday = input(\"Enter Student Date of Birth: \")\n",
    "        StudentList[i] = Student(student_id, student_name, student_birthday)\n",
    "        \n",
    "def setCourse():\n",
    "    print(\"Input Course Information: \")\n",
    "    for i in range(CourseCount):\n",
    "        course_id = input(\"Enter Course Id: \")\n",
    "        course_name = input(\"Enter Course name: \")\n",
    "        CourseList[i] = Course(course_id, course_name)\n",
    "        "
   ]
  }
 ],
 "metadata": {
  "kernelspec": {
   "display_name": "Python 3",
   "language": "python",
   "name": "python3"
  },
  "language_info": {
   "codemirror_mode": {
    "name": "ipython",
    "version": 3
   },
   "file_extension": ".py",
   "mimetype": "text/x-python",
   "name": "python",
   "nbconvert_exporter": "python",
   "pygments_lexer": "ipython3",
   "version": "3.8.5"
  }
 },
 "nbformat": 4,
 "nbformat_minor": 4
}
