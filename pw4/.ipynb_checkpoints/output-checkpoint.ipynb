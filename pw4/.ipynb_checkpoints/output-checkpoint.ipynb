{
 "cells": [
  {
   "cell_type": "code",
   "execution_count": null,
   "metadata": {},
   "outputs": [],
   "source": [
    "from domains.Student import *\n",
    "from domains.Course import *\n",
    "from domains.Mark import *\n",
    "from math import *\n",
    "from numpy import *\n",
    "\n",
    "\n",
    "def PrintStudentList():\n",
    "    for i in range(StudentCount):\n",
    "        StudentList[i].getStudentinfo()\n",
    "        \n",
    "def PrintCourseList():\n",
    "    for i in range(CourseCount):\n",
    "        CourseList[i].getCourseinfo()\n",
    "        \n",
    "def PrintMarkList():\n",
    "    for i in range(len(MarkList)):\n",
    "        MarkList[i].getMarkinfo()\n",
    "        \n",
    "def getAverageMark():\n",
    "    Temp= input(\"Average Mark of Student name: \")\n",
    "    AverageMark(Temp)"
   ]
  }
 ],
 "metadata": {
  "kernelspec": {
   "display_name": "Python 3",
   "language": "python",
   "name": "python3"
  },
  "language_info": {
   "codemirror_mode": {
    "name": "ipython",
    "version": 3
   },
   "file_extension": ".py",
   "mimetype": "text/x-python",
   "name": "python",
   "nbconvert_exporter": "python",
   "pygments_lexer": "ipython3",
   "version": "3.8.5"
  }
 },
 "nbformat": 4,
 "nbformat_minor": 4
}
