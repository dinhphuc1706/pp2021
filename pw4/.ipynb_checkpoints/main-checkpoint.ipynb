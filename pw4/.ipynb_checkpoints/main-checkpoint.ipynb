{
 "cells": [
  {
   "cell_type": "code",
   "execution_count": null,
   "metadata": {},
   "outputs": [],
   "source": [
    "from domains.Student import *\n",
    "from domains.Course import *\n",
    "from domains.Mark import *\n",
    "\n",
    "#main\n",
    "index = 0\n",
    "StudentCount()\n",
    "createStudentList()\n",
    "setStudent()\n",
    "PrintStudentList()\n",
    "\n",
    "print(\"\\n\")\n",
    "CourseCount()\n",
    "createCourseList()\n",
    "setCourse()\n",
    "PrintCourseList()\n",
    "\n",
    "print(\"\\n\")\n",
    "RecordCount()\n",
    "for i in range(RecordCount):\n",
    "    createMarkList()\n",
    "    setMark()\n",
    "PrintMarkList()\n",
    "getAverageMark()"
   ]
  }
 ],
 "metadata": {
  "kernelspec": {
   "display_name": "Python 3",
   "language": "python",
   "name": "python3"
  },
  "language_info": {
   "codemirror_mode": {
    "name": "ipython",
    "version": 3
   },
   "file_extension": ".py",
   "mimetype": "text/x-python",
   "name": "python",
   "nbconvert_exporter": "python",
   "pygments_lexer": "ipython3",
   "version": "3.8.5"
  }
 },
 "nbformat": 4,
 "nbformat_minor": 4
}
