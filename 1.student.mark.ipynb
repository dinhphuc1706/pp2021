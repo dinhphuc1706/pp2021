{
 "cells": [
  {
   "cell_type": "code",
   "execution_count": 3,
   "metadata": {},
   "outputs": [
    {
     "name": "stdout",
     "output_type": "stream",
     "text": [
      "How many student are there? 2\n",
      "Enter Student Infor : \n",
      " ID : 01\n",
      " Name : P\n",
      " Birthday : 01\n",
      " ID : 02\n",
      " Name : H\n",
      " Birthday : 02\n",
      "How many course are there in the semester ? 02\n",
      "Enter (CourseCount) Course Infor : \n",
      " ID : 03\n",
      " Name : U\n",
      " ID : 04\n",
      " Name : C\n",
      "Enter student ID to input mark: 01\n",
      "Enter Course Name to input: 03\n",
      "mark: 8\n",
      "{'01': ['P', '01'], '02': ['H', '02']}\n",
      "{'03': 'U', '04': 'C'}\n",
      "{'01': {'03': '8'}}\n"
     ]
    }
   ],
   "source": [
    "StudentDict = {}\n",
    "StudentCount = int(input(\"How many student are there? \"))\n",
    "\n",
    "def Studentinfo(id,name,Birthday):\n",
    "    StudentDict[id] = [name,Birthday]\n",
    "    \n",
    "print(\"Enter Student Infor : \")\n",
    "for i in range(StudentCount):\n",
    "    sid = input(\" ID : \")\n",
    "    sname = input(\" Name : \")\n",
    "    sBirthday = input(\" Birthday : \")\n",
    "    Studentinfo(sid,sname,sBirthday)\n",
    "    \n",
    "def PrintStudentList():\n",
    "    print(StudentDict)\n",
    "\n",
    "CourseDict = {}\n",
    "CourseCount = int(input(\"How many course are there in the semester ? \"))\n",
    "\n",
    "def Courseinfo(id,name):\n",
    "    CourseDict[id] = name\n",
    "    \n",
    "print(\"Enter (CourseCount) Course Infor : \")\n",
    "for i in range(CourseCount):\n",
    "    cid = input(\" ID : \")\n",
    "    cname = input(\" Name : \")\n",
    "    Courseinfo(cid,cname)\n",
    "\n",
    "def PrintCourseList():\n",
    "    print(CourseDict)\n",
    "    \n",
    "GivenStdId = input(\"Enter student ID to input mark: \")\n",
    "while True:\n",
    "    if GivenStdId not in StudentDict:\n",
    "        GivenStdId = input(\"Student ID Wrong,please enter again: \")\n",
    "    else:\n",
    "        break\n",
    "\n",
    "GivenCrsName = input(\"Enter Course Name to input: \")\n",
    "while True:\n",
    "    if GivenCrsName not in CourseDict:\n",
    "        GivenCrsName = input(\"Course Name Wrong,please enter again: \")\n",
    "    else:\n",
    "        break\n",
    "            \n",
    "GivenMark = input(\"mark: \")\n",
    "MarkDict = {}\n",
    "\n",
    "def InputMark(sid, cname, mark):\n",
    "    MarkDict[sid] = {cname: mark}\n",
    "InputMark(GivenStdId, GivenCrsName, GivenMark)\n",
    "\n",
    "def PrintMark():\n",
    "    print(MarkDict)\n",
    "\n",
    "PrintStudentList()\n",
    "PrintCourseList()\n",
    "PrintMark()"
   ]
  },
  {
   "cell_type": "code",
   "execution_count": null,
   "metadata": {},
   "outputs": [],
   "source": []
  }
 ],
 "metadata": {
  "kernelspec": {
   "display_name": "Python 3",
   "language": "python",
   "name": "python3"
  },
  "language_info": {
   "codemirror_mode": {
    "name": "ipython",
    "version": 3
   },
   "file_extension": ".py",
   "mimetype": "text/x-python",
   "name": "python",
   "nbconvert_exporter": "python",
   "pygments_lexer": "ipython3",
   "version": "3.8.5"
  }
 },
 "nbformat": 4,
 "nbformat_minor": 5
}
